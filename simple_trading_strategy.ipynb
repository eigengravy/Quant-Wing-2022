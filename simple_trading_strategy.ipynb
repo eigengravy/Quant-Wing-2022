{
 "cells": [
  {
   "cell_type": "code",
   "execution_count": null,
   "metadata": {},
   "outputs": [],
   "source": []
  }
 ],
 "metadata": {
  "kernelspec": {
   "display_name": "Python 3.10.5 64-bit ('3.10.5')",
   "language": "python",
   "name": "python3"
  },
  "language_info": {
   "name": "python",
   "version": "3.10.5"
  },
  "orig_nbformat": 4,
  "vscode": {
   "interpreter": {
    "hash": "492708c760503012d88a5ec5f8d537ae03b360dc6a10cc47dd34704253f2585f"
   }
  }
 },
 "nbformat": 4,
 "nbformat_minor": 2
}
