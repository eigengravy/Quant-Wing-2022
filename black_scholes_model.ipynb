{
 "cells": [
  {
   "cell_type": "code",
   "execution_count": 9,
   "metadata": {},
   "outputs": [],
   "source": [
    "from scipy.stats import norm\n",
    "from math import log, sqrt, pi, exp\n",
    "import numpy as np\n",
    "import pandas as pd"
   ]
  },
  {
   "cell_type": "markdown",
   "id": "aa16f75c",
   "metadata": {},
   "source": [
    "S = spot price\n",
    "\n",
    "K = strike price\n",
    "\n",
    "sigma = volatility\n",
    "\n",
    "r = risk-free rate\n",
    "\n",
    "T = time to maturity\n",
    "\n",
    "delta = dividend"
   ]
  },
  {
   "cell_type": "code",
   "execution_count": 10,
   "id": "2cdf3d3b",
   "metadata": {},
   "outputs": [],
   "source": [
    "def d1(S: float, K: float, sigma: float, r: float, T: float, delta: float) -> float: return (\n",
    "    log(S/K)+(r-delta+sigma**2/2.)*T)/(sigma*sqrt(T))\n",
    "\n",
    "\n",
    "def d2(S: float, K: float, sigma: float, r: float, T: float, delta: float) -> float: return d1(\n",
    "    S, K, sigma, r, T, delta)-sigma*sqrt(T)\n",
    "\n",
    "\n",
    "def call(S: float, K: float, sigma: float, r: float, T: float, delta: float) -> float:\n",
    "    return S*exp(-delta*T)*norm.cdf(d1(S, K, sigma, r, T, delta))-K*exp(-r*T)*norm.cdf(d2(S, K, sigma, r, T, delta))\n",
    "\n",
    "\n",
    "def put(S: float, K: float, sigma: float, r: float, T: float, delta: float) -> float:\n",
    "    return K*exp(-r*T)*norm.cdf(-d2(S, K, sigma, r, T, delta)) - S*exp(-delta*T)*norm.cdf(-d1(S, K, sigma, r, T, delta))\n"
   ]
  },
  {
   "cell_type": "code",
   "execution_count": 11,
   "id": "6ca260f5",
   "metadata": {},
   "outputs": [],
   "source": [
    "df = pd.read_csv(\"datasets/MSFT.csv\")\n",
    "df = df.sort_values(by=\"Date\")\n",
    "df = df.dropna()\n",
    "\n",
    "df = df.assign(close_day_before=df.Close.shift(1))\n",
    "df['returns'] = ((df.Close - df.close_day_before)/df.close_day_before)\n",
    "\n",
    "sigma = np.sqrt(252) * df['returns'].std()"
   ]
  },
  {
   "cell_type": "code",
   "execution_count": 12,
   "id": "3213fd83",
   "metadata": {},
   "outputs": [],
   "source": [
    "spot_price = 263.86\n",
    "strike_prices = [80, 85, 90, 95, 100, 105, 110, 115, 120]"
   ]
  },
  {
   "cell_type": "code",
   "execution_count": 13,
   "id": "11d64862",
   "metadata": {},
   "outputs": [
    {
     "data": {
      "text/plain": [
       "[183.87533186398278,\n",
       " 178.8762901054817,\n",
       " 173.87724834698062,\n",
       " 168.87820658847954,\n",
       " 163.87916482997846,\n",
       " 158.88012307147739,\n",
       " 153.88108131297633,\n",
       " 148.88203955447523,\n",
       " 143.88299779597418]"
      ]
     },
     "execution_count": 13,
     "metadata": {},
     "output_type": "execute_result"
    }
   ],
   "source": [
    "[call(S=spot_price, K=strike_price, sigma=sigma, r=0.0069, T=(7/252), delta=0)\n",
    " for strike_price in strike_prices]"
   ]
  },
  {
   "cell_type": "code",
   "execution_count": 14,
   "id": "24f54b30",
   "metadata": {},
   "outputs": [
    {
     "data": {
      "text/plain": [
       "[6.140756722189103e-122,\n",
       " 4.189085022066969e-110,\n",
       " 1.6579843326907124e-99,\n",
       " 5.546991921264089e-90,\n",
       " 2.142306883037046e-81,\n",
       " 1.2393113340503293e-73,\n",
       " 1.3376426270729065e-66,\n",
       " 3.246525783668764e-60,\n",
       " 2.0786927758718354e-54]"
      ]
     },
     "execution_count": 14,
     "metadata": {},
     "output_type": "execute_result"
    }
   ],
   "source": [
    "[put(S=spot_price, K=strike_price, sigma=sigma, r=0.0069, T=(7/252), delta=0)\n",
    " for strike_price in strike_prices]"
   ]
  }
 ],
 "metadata": {
  "kernelspec": {
   "display_name": "Python 3.10.5 64-bit ('3.10.5')",
   "language": "python",
   "name": "python3"
  },
  "language_info": {
   "codemirror_mode": {
    "name": "ipython",
    "version": 3
   },
   "file_extension": ".py",
   "mimetype": "text/x-python",
   "name": "python",
   "nbconvert_exporter": "python",
   "pygments_lexer": "ipython3",
   "version": "3.10.5"
  },
  "vscode": {
   "interpreter": {
    "hash": "492708c760503012d88a5ec5f8d537ae03b360dc6a10cc47dd34704253f2585f"
   }
  }
 },
 "nbformat": 4,
 "nbformat_minor": 5
}
