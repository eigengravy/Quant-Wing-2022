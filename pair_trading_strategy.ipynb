{
 "cells": [
  {
   "cell_type": "code",
   "execution_count": 42,
   "metadata": {},
   "outputs": [],
   "source": [
    "from itertools import permutations\n",
    "import statsmodels.api as sm\n",
    "from statsmodels.tsa.stattools import adfuller\n",
    "import pandas as pd\n",
    "import numpy as np"
   ]
  },
  {
   "cell_type": "markdown",
   "metadata": {},
   "source": [
    "Generating pairs of tickers"
   ]
  },
  {
   "cell_type": "code",
   "execution_count": 41,
   "metadata": {},
   "outputs": [],
   "source": [
    "tickers = ['AAPL','AMD','AMZN','GOOGL','INTC','META','NFLX','NVDA','TSLA','UBER']\n",
    "pairs_tickers = list(permutations(tickers, 2))\n",
    "df = {ticker: (pd.read_csv(f'./datasets/{ticker}.csv')[['Open','Close']]).apply(lambda x: (x['Open'] + x['Close'])/2, axis=1) for ticker in tickers}"
   ]
  },
  {
   "cell_type": "markdown",
   "metadata": {},
   "source": [
    "Calculating residuals"
   ]
  },
  {
   "cell_type": "code",
   "execution_count": 45,
   "metadata": {},
   "outputs": [],
   "source": [
    "residuals = {}\n",
    "\n",
    "for a,b in pairs_tickers:\n",
    "    model = sm.OLS(np.array(df[a]), np.array(df[b]))\n",
    "    result = model.fit()\n",
    "    residuals[(a,b)] = result.resid"
   ]
  },
  {
   "cell_type": "markdown",
   "metadata": {},
   "source": [
    "A D Fuller test"
   ]
  },
  {
   "cell_type": "code",
   "execution_count": 54,
   "metadata": {},
   "outputs": [
    {
     "data": {
      "text/plain": [
       "[('AAPL', 'AMD'),\n",
       " ('AAPL', 'AMZN'),\n",
       " ('AAPL', 'GOOGL'),\n",
       " ('AAPL', 'INTC'),\n",
       " ('AAPL', 'META'),\n",
       " ('AAPL', 'NFLX'),\n",
       " ('AAPL', 'NVDA'),\n",
       " ('AAPL', 'TSLA'),\n",
       " ('AAPL', 'UBER'),\n",
       " ('TSLA', 'AAPL'),\n",
       " ('TSLA', 'AMD'),\n",
       " ('TSLA', 'AMZN'),\n",
       " ('TSLA', 'GOOGL'),\n",
       " ('TSLA', 'INTC'),\n",
       " ('TSLA', 'META'),\n",
       " ('TSLA', 'NFLX'),\n",
       " ('TSLA', 'NVDA'),\n",
       " ('TSLA', 'UBER')]"
      ]
     },
     "execution_count": 54,
     "metadata": {},
     "output_type": "execute_result"
    }
   ],
   "source": [
    "[(a,b) for a,b in pairs_tickers if adfuller(np.array(df[a]))[1] < 0.5 and adfuller(np.array(df[a]))[1] < 0.5]"
   ]
  }
 ],
 "metadata": {
  "kernelspec": {
   "display_name": "Python 3.10.5 64-bit ('3.10.5')",
   "language": "python",
   "name": "python3"
  },
  "language_info": {
   "codemirror_mode": {
    "name": "ipython",
    "version": 3
   },
   "file_extension": ".py",
   "mimetype": "text/x-python",
   "name": "python",
   "nbconvert_exporter": "python",
   "pygments_lexer": "ipython3",
   "version": "3.10.5"
  },
  "orig_nbformat": 4,
  "vscode": {
   "interpreter": {
    "hash": "492708c760503012d88a5ec5f8d537ae03b360dc6a10cc47dd34704253f2585f"
   }
  }
 },
 "nbformat": 4,
 "nbformat_minor": 2
}
